{
  "nbformat": 4,
  "nbformat_minor": 0,
  "metadata": {
    "colab": {
      "provenance": []
    },
    "kernelspec": {
      "name": "python3",
      "display_name": "Python 3"
    },
    "language_info": {
      "name": "python"
    }
  },
  "cells": [
    {
      "cell_type": "markdown",
      "source": [
        "Q1"
      ],
      "metadata": {
        "id": "K5iW__4N38ZU"
      }
    },
    {
      "cell_type": "code",
      "execution_count": null,
      "metadata": {
        "colab": {
          "base_uri": "https://localhost:8080/"
        },
        "id": "XP6v4QU334D0",
        "outputId": "4594eaf9-bd75-472a-8e90-ce282dd2c0b4"
      },
      "outputs": [
        {
          "output_type": "stream",
          "name": "stdout",
          "text": [
            "8\n"
          ]
        }
      ],
      "source": [
        "import numpy as np\n",
        "\n",
        "D = np.array([[1,0,0,0],[0,3,0,0],[0,0,2,0],[0,0,0,2]])\n",
        "A = np.array([[0,1,0,0],[1,0,1,1],[0,1,0,1],[0,1,1,0]])\n",
        "\n",
        "L = D - A\n",
        "\n",
        "print (np.trace(L))\n"
      ]
    },
    {
      "cell_type": "markdown",
      "source": [
        "Q2"
      ],
      "metadata": {
        "id": "brS7bFUo4g_r"
      }
    },
    {
      "cell_type": "code",
      "source": [
        "matrix = np.array([\n",
        "    [1, 2, 3],\n",
        "    [2, 4, 6],\n",
        "    [4, 5, 6],\n",
        "    [6, 7, 8],\n",
        "    [8, 9, 10]\n",
        "])\n",
        "\n",
        "U, singular_values, Vt = np.linalg.svd(matrix)\n",
        "\n",
        "print(singular_values)\n",
        "\n",
        "print(U.shape)"
      ],
      "metadata": {
        "id": "ndmxlhXa4kT0",
        "colab": {
          "base_uri": "https://localhost:8080/"
        },
        "outputId": "5e60c15b-5015-4ba1-c0e4-738d68b71876"
      },
      "execution_count": null,
      "outputs": [
        {
          "output_type": "stream",
          "name": "stdout",
          "text": [
            "[2.31535443e+01 2.21661569e+00 1.96418708e-15]\n",
            "(5, 5)\n"
          ]
        }
      ]
    },
    {
      "cell_type": "markdown",
      "source": [
        "Q3"
      ],
      "metadata": {
        "id": "FSautE_E4k9T"
      }
    },
    {
      "cell_type": "code",
      "source": [],
      "metadata": {
        "id": "eGIefT3B4nlC"
      },
      "execution_count": null,
      "outputs": []
    },
    {
      "cell_type": "markdown",
      "source": [
        "Q4"
      ],
      "metadata": {
        "id": "HaZNbaw6-pan"
      }
    },
    {
      "cell_type": "code",
      "source": [
        "#The rank of a matrix is the number of non-zero singular values in its Singular Value Decomposition (SVD)."
      ],
      "metadata": {
        "id": "qHho41v6_3P7"
      },
      "execution_count": null,
      "outputs": []
    },
    {
      "cell_type": "markdown",
      "source": [
        "Q5"
      ],
      "metadata": {
        "id": "yGLTL6KN_5Ch"
      }
    },
    {
      "cell_type": "code",
      "source": [],
      "metadata": {
        "id": "Lg3Z1yjF_73O"
      },
      "execution_count": null,
      "outputs": []
    },
    {
      "cell_type": "markdown",
      "source": [
        "Q6"
      ],
      "metadata": {
        "id": "JfgR5cb2D6sH"
      }
    },
    {
      "cell_type": "code",
      "source": [
        "1-(1*(11/12)*(10/12))"
      ],
      "metadata": {
        "colab": {
          "base_uri": "https://localhost:8080/"
        },
        "id": "wlriVUcxD8BD",
        "outputId": "bf70eecb-3e5c-42aa-926c-9e4f4eec9e87"
      },
      "execution_count": null,
      "outputs": [
        {
          "output_type": "execute_result",
          "data": {
            "text/plain": [
              "0.23611111111111116"
            ]
          },
          "metadata": {},
          "execution_count": 4
        }
      ]
    },
    {
      "cell_type": "markdown",
      "source": [
        "Q7"
      ],
      "metadata": {
        "id": "1muCOofJGMif"
      }
    },
    {
      "cell_type": "code",
      "source": [],
      "metadata": {
        "id": "IMqRtn4Pjvbx"
      },
      "execution_count": null,
      "outputs": []
    },
    {
      "cell_type": "markdown",
      "source": [
        "Q8"
      ],
      "metadata": {
        "id": "nqWE_h7Hjv6_"
      }
    },
    {
      "cell_type": "code",
      "source": [
        "y = (1-0.85)*(1-0.80)*(1-0.75)*(1-0.70)*(1-0.65)\n",
        "print(y)\n",
        "print (1-y)"
      ],
      "metadata": {
        "colab": {
          "base_uri": "https://localhost:8080/"
        },
        "id": "_e-JvPFNjxDJ",
        "outputId": "6b4b8874-3208-4eb6-9bd8-aa3a8ed2a7b6"
      },
      "execution_count": null,
      "outputs": [
        {
          "output_type": "stream",
          "name": "stdout",
          "text": [
            "0.0007875\n",
            "0.9992125\n"
          ]
        }
      ]
    },
    {
      "cell_type": "markdown",
      "source": [
        "Q9"
      ],
      "metadata": {
        "id": "b2o7JoTbsxCi"
      }
    },
    {
      "cell_type": "code",
      "source": [],
      "metadata": {
        "id": "aedyV5jjsx7S"
      },
      "execution_count": null,
      "outputs": []
    },
    {
      "cell_type": "markdown",
      "source": [
        "Q10"
      ],
      "metadata": {
        "id": "euDL5MiSsygR"
      }
    },
    {
      "cell_type": "code",
      "source": [
        "count_versicolor = 39\n",
        "total_samples = 39 + 2\n",
        "\n",
        "# Probability of being Iris Versicolor\n",
        "probability_versicolor = count_versicolor / total_samples\n",
        "print(count_versicolor)\n",
        "print(total_samples)\n",
        "probability_versicolor"
      ],
      "metadata": {
        "colab": {
          "base_uri": "https://localhost:8080/"
        },
        "id": "hI6pY7IaszTT",
        "outputId": "8a7dd18c-4820-4f08-8ca4-3fb033fac562"
      },
      "execution_count": null,
      "outputs": [
        {
          "output_type": "stream",
          "name": "stdout",
          "text": [
            "39\n",
            "41\n"
          ]
        },
        {
          "output_type": "execute_result",
          "data": {
            "text/plain": [
              "0.9512195121951219"
            ]
          },
          "metadata": {},
          "execution_count": 4
        }
      ]
    },
    {
      "cell_type": "markdown",
      "source": [
        "Q11"
      ],
      "metadata": {
        "id": "z9HdiOM4vfRj"
      }
    },
    {
      "cell_type": "code",
      "source": [],
      "metadata": {
        "id": "dxEPJjxn1IjX"
      },
      "execution_count": null,
      "outputs": []
    },
    {
      "cell_type": "code",
      "source": [],
      "metadata": {
        "id": "NF_d5vTU1LJx"
      },
      "execution_count": null,
      "outputs": []
    },
    {
      "cell_type": "markdown",
      "source": [
        "Q12"
      ],
      "metadata": {
        "id": "5i_g2fSv1JEK"
      }
    },
    {
      "cell_type": "code",
      "source": [
        "import math\n",
        "exam_results_math = ['Y', 'Y', 'N', 'Y', 'Y']\n",
        "\n",
        "# Count the number of passes and fails for students with a Math background\n",
        "num_pass_math = exam_results_math.count('Y')\n",
        "num_fail_math = exam_results_math.count('N')\n",
        "\n",
        "# Total number of students with a Math background\n",
        "total_math_students = len(exam_results_math)\n",
        "\n",
        "# Calculate the probabilities\n",
        "p_pass_math = num_pass_math / total_math_students\n",
        "p_fail_math = num_fail_math / total_math_students\n",
        "\n",
        "# Calculate the entropy for the exam result given a Math background\n",
        "# Check if probabilities are not zero to avoid math error on log(0)\n",
        "entropy_math = 0\n",
        "if p_pass_math > 0:\n",
        "    entropy_math -= p_pass_math * math.log2(p_pass_math)\n",
        "if p_fail_math > 0:\n",
        "    entropy_math -= p_fail_math * math.log2(p_fail_math)\n",
        "\n",
        "entropy_math\n"
      ],
      "metadata": {
        "colab": {
          "base_uri": "https://localhost:8080/"
        },
        "id": "ql6J2CkF1Mrt",
        "outputId": "41b096ed-116a-493f-c5ae-63efca13502c"
      },
      "execution_count": null,
      "outputs": [
        {
          "output_type": "execute_result",
          "data": {
            "text/plain": [
              "0.7219280948873623"
            ]
          },
          "metadata": {},
          "execution_count": 7
        }
      ]
    },
    {
      "cell_type": "markdown",
      "source": [
        "Q13"
      ],
      "metadata": {
        "id": "K85lpLXs1Ka5"
      }
    },
    {
      "cell_type": "markdown",
      "source": [
        "E(Result| other_online =N)"
      ],
      "metadata": {
        "id": "tpmQM0TcUd_u"
      }
    },
    {
      "cell_type": "code",
      "source": [
        "import numpy as np\n",
        "import math\n",
        "from scipy.stats import entropy\n",
        "\n",
        "def cal_entropy(val_list):\n",
        "  u_instance, u_count = np.unique(np.array(val_list), return_counts=True)\n",
        "  print(u_count)\n",
        "  p_arr = u_count/len(val_list)\n",
        "  ep=entropy(p_arr, base=2)\n",
        "  print(f\"ep= {ep}\")\n",
        "  return ep"
      ],
      "metadata": {
        "id": "aYO-6oBDZ8hG"
      },
      "execution_count": 2,
      "outputs": []
    },
    {
      "cell_type": "code",
      "source": [
        "\n",
        "\n",
        "other_online = ['Y',  'N', 'N', 'Y']\n",
        "\n",
        "num_Y_other_online = other_online.count('Y')\n",
        "num_N_other_online = other_online.count('N')\n",
        "\n",
        "total_other_online = len(other_online)\n",
        "\n",
        "p_num_Y_other_online = num_Y_other_online / total_other_online\n",
        "p_num_N_other_online = num_N_other_online / total_other_online\n",
        "\n",
        "ep=entropy(np.array([p_num_Y_other_online,p_num_N_other_online ]), base=2)\n",
        "print(ep)\n",
        "\n",
        "print(cal_entropy(['Y',  'N', 'N', 'Y']))\n",
        "print(cal_entropy(['Y', 'Y', 'N', 'Y', 'Y']))"
      ],
      "metadata": {
        "colab": {
          "base_uri": "https://localhost:8080/"
        },
        "id": "PIAxIIbP_2--",
        "outputId": "c25923e3-729a-4657-958d-f671dfc6212b"
      },
      "execution_count": 3,
      "outputs": [
        {
          "output_type": "stream",
          "name": "stdout",
          "text": [
            "1.0\n",
            "[2 2]\n",
            "ep= 1.0\n",
            "1.0\n",
            "[1 4]\n",
            "ep= 0.7219280948873623\n",
            "0.7219280948873623\n"
          ]
        }
      ]
    },
    {
      "cell_type": "markdown",
      "source": [
        "Q14"
      ],
      "metadata": {
        "id": "48g7nkwFBj7T"
      }
    },
    {
      "cell_type": "code",
      "source": [
        "import numpy as np\n",
        "import math\n",
        "from scipy.stats import entropy\n",
        "\n",
        "def cal_entropy(val_list):\n",
        "  u_instance, u_count = np.unique(np.array(val_list), return_counts=True)\n",
        "  #print(u_count)\n",
        "  p_arr = u_count/len(val_list)\n",
        "  ep=entropy(p_arr, base=2)\n",
        "  #print(f\"ep= {ep}\")\n",
        "  return ep\n",
        "parent_ent = cal_entropy(['P', 'P', 'F', 'P', 'F', 'F', 'P', 'P', 'F', 'P'])\n",
        "print(f\"ent_result= {parent_ent}\")\n",
        "# working = Y\n",
        "e_working_y = cal_entropy(['P', 'F', 'F', 'P', 'P'])\n",
        "p_working_y =  0.5\n",
        "# working = N\n",
        "e_working_n = cal_entropy(['P', 'P', 'F', 'P', 'F'])\n",
        "p_working_n =  0.5\n",
        "ig_working = parent_ent - (e_working_y*p_working_y + e_working_n*p_working_n)\n",
        "print(f\"ig_working_status= {ig_working}\")\n",
        "#######\n",
        "# online = Y\n",
        "e_online_y = cal_entropy(['P', 'F', 'P', 'F', 'P', 'P'])\n",
        "p_online_y =  0.6\n",
        "# online = N\n",
        "e_online_n = cal_entropy(['P', 'F', 'F', 'P'])\n",
        "p_online_n =  0.4\n",
        "ig_online = parent_ent - (e_online_y*p_online_y + e_online_n*p_online_n)\n",
        "print(f\"ig_other_online= {ig_online}\")\n",
        "#######\n",
        "# back = M\n",
        "e_back_m = cal_entropy(['P', 'P', 'F', 'P', 'P'])\n",
        "p_back_m =  0.5\n",
        "# back = C\n",
        "e_back_c = cal_entropy(['F', 'P', 'F'])\n",
        "p_back_c =  0.3\n",
        "# back = O\n",
        "e_back_o = cal_entropy(['P', 'F'])\n",
        "p_back_o =  0.2\n",
        "ig_back = parent_ent - (e_back_m*p_back_m + e_back_c*p_back_c + e_back_o*p_back_o)\n",
        "print(f\"ig_background= {ig_back}\")"
      ],
      "metadata": {
        "id": "5xTnx39PBlbJ",
        "colab": {
          "base_uri": "https://localhost:8080/"
        },
        "outputId": "274d387b-2a51-4f39-a52c-b1ec532efda7"
      },
      "execution_count": 32,
      "outputs": [
        {
          "output_type": "stream",
          "name": "stdout",
          "text": [
            "ent_result= 0.9709505944546688\n",
            "ig_working_status= 0.0\n",
            "ig_other_online= 0.019973094021975113\n",
            "ig_background= 0.1344977967946408\n"
          ]
        }
      ]
    },
    {
      "cell_type": "code",
      "source": [],
      "metadata": {
        "colab": {
          "base_uri": "https://localhost:8080/"
        },
        "id": "9fHYzwhQuwCA",
        "outputId": "5c292a6d-7e73-4d68-d01b-41cffa1eef3b"
      },
      "execution_count": 20,
      "outputs": [
        {
          "output_type": "stream",
          "name": "stdout",
          "text": [
            "0.0\n"
          ]
        }
      ]
    },
    {
      "cell_type": "code",
      "source": [
        "import numpy as np\n",
        "import math\n",
        "from scipy.stats import entropy\n",
        "\n",
        "def entropy(target_col):\n",
        "    \"\"\"\n",
        "    Calculate the entropy of a dataset.\n",
        "    The only parameter of this function is the target_col parameter which specifies the target column\n",
        "    \"\"\"\n",
        "    elements, counts = np.unique(target_col, return_counts=True)\n",
        "    entropy = np.sum([(-counts[i]/np.sum(counts)) * np.log2(counts[i]/np.sum(counts)) for i in range(len(elements))])\n",
        "    return entropy\n",
        "\n",
        "def InfoGain(data, split_attribute_name, target_name=\"result\"):\n",
        "    \"\"\"\n",
        "    Calculate the Information Gain of a dataset. This function takes three parameters:\n",
        "    1. data = The dataset for whose feature the IG should be calculated\n",
        "    2. split_attribute_name = the name of the feature for which the information gain should be calculated\n",
        "    3. target_name = the name of the target feature. The default is 'target'.\n",
        "    \"\"\"\n",
        "    # Calculate the entropy of the total dataset\n",
        "    total_entropy = entropy(data[target_name])\n",
        "\n",
        "    # Calculate the values and the corresponding counts for the split attribute\n",
        "    vals, counts= np.unique(data[split_attribute_name], return_counts=True)\n",
        "\n",
        "    # Calculate the weighted entropy\n",
        "    Weighted_Entropy = np.sum([(counts[i]/np.sum(counts)) * entropy(data.where(data[split_attribute_name]==vals[i]).dropna()[target_name]) for i in range(len(vals))])\n",
        "\n",
        "    # Calculate the information gain\n",
        "    Information_Gain = total_entropy - Weighted_Entropy\n",
        "    return Information_Gain\n",
        "\n",
        "# Example usage\n",
        "import pandas as pd\n",
        "\n",
        "# Example DataFrame\n",
        "data = pd.DataFrame({\n",
        "    'status': ['N', 'Y', 'Y', 'N','N','Y','Y','N','N','Y'],\n",
        "    'background': ['M', 'M', 'C', 'O','O','M','C','M','C','M'],\n",
        "    'online': ['Y', 'N', 'Y', 'Y','N','Y','Y','Y','N','N'],\n",
        "    'result': ['P', 'P', 'F', 'P', 'F','F','P','P','F','P']\n",
        "})\n",
        "\n",
        "# Calculate Information Gain\n",
        "info_gain = InfoGain(data, 'status', 'result')\n",
        "print(f\"Information Gain for 'status': {info_gain}\")\n",
        "info_gain = InfoGain(data, 'background', 'result')\n",
        "print(f\"Information Gain for 'background': {info_gain}\")\n",
        "info_gain = InfoGain(data, 'online', 'result')\n",
        "print(f\"Information Gain for 'online': {info_gain}\")\n"
      ],
      "metadata": {
        "colab": {
          "base_uri": "https://localhost:8080/"
        },
        "id": "57RsaFGp8R8a",
        "outputId": "08bc3c7b-d277-4506-ce1d-d60622219489"
      },
      "execution_count": 31,
      "outputs": [
        {
          "output_type": "stream",
          "name": "stdout",
          "text": [
            "Information Gain for 'status': 0.0\n",
            "Information Gain for 'background': 0.13449779679464058\n",
            "Information Gain for 'online': 0.01997309402197489\n"
          ]
        }
      ]
    }
  ]
}