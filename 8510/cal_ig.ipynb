{
 "cells": [
  {
   "cell_type": "markdown",
   "metadata": {
    "id": "K5iW__4N38ZU"
   },
   "source": [
    "Q1"
   ]
  },
  {
   "cell_type": "code",
   "execution_count": 31,
   "metadata": {
    "colab": {
     "base_uri": "https://localhost:8080/"
    },
    "id": "57RsaFGp8R8a",
    "outputId": "08bc3c7b-d277-4506-ce1d-d60622219489"
   },
   "outputs": [
    {
     "name": "stdout",
     "output_type": "stream",
     "text": [
      "Information Gain for 'status': 0.0\n",
      "Information Gain for 'background': 0.13449779679464058\n",
      "Information Gain for 'online': 0.01997309402197489\n"
     ]
    }
   ],
   "source": [
    "import numpy as np\n",
    "import math\n",
    "from scipy.stats import entropy\n",
    "\n",
    "def entropy(target_col):\n",
    "    \"\"\"\n",
    "    Calculate the entropy of a dataset.\n",
    "    The only parameter of this function is the target_col parameter which specifies the target column\n",
    "    \"\"\"\n",
    "    elements, counts = np.unique(target_col, return_counts=True)\n",
    "    entropy = np.sum([(-counts[i]/np.sum(counts)) * np.log2(counts[i]/np.sum(counts)) for i in range(len(elements))])\n",
    "    return entropy\n",
    "\n",
    "def InfoGain(data, split_attribute_name, target_name=\"result\"):\n",
    "    \"\"\"\n",
    "    Calculate the Information Gain of a dataset. This function takes three parameters:\n",
    "    1. data = The dataset for whose feature the IG should be calculated\n",
    "    2. split_attribute_name = the name of the feature for which the information gain should be calculated\n",
    "    3. target_name = the name of the target feature. The default is 'target'.\n",
    "    \"\"\"\n",
    "    # Calculate the entropy of the total dataset\n",
    "    total_entropy = entropy(data[target_name])\n",
    "\n",
    "    # Calculate the values and the corresponding counts for the split attribute\n",
    "    vals, counts= np.unique(data[split_attribute_name], return_counts=True)\n",
    "\n",
    "    # Calculate the weighted entropy\n",
    "    Weighted_Entropy = np.sum([(counts[i]/np.sum(counts)) * entropy(data.where(data[split_attribute_name]==vals[i]).dropna()[target_name]) for i in range(len(vals))])\n",
    "\n",
    "    # Calculate the information gain\n",
    "    Information_Gain = total_entropy - Weighted_Entropy\n",
    "    return Information_Gain\n",
    "\n",
    "# Example usage\n",
    "import pandas as pd\n",
    "\n",
    "# Example DataFrame\n",
    "data = pd.DataFrame({\n",
    "    'status': ['N', 'Y', 'Y', 'N','N','Y','Y','N','N','Y'],\n",
    "    'background': ['M', 'M', 'C', 'O','O','M','C','M','C','M'],\n",
    "    'online': ['Y', 'N', 'Y', 'Y','N','Y','Y','Y','N','N'],\n",
    "    'result': ['P', 'P', 'F', 'P', 'F','F','P','P','F','P']\n",
    "})\n",
    "\n",
    "# Calculate Information Gain\n",
    "info_gain = InfoGain(data, 'status', 'result')\n",
    "print(f\"Information Gain for 'status': {info_gain}\")\n",
    "info_gain = InfoGain(data, 'background', 'result')\n",
    "print(f\"Information Gain for 'background': {info_gain}\")\n",
    "info_gain = InfoGain(data, 'online', 'result')\n",
    "print(f\"Information Gain for 'online': {info_gain}\")\n"
   ]
  }
 ],
 "metadata": {
  "colab": {
   "provenance": []
  },
  "kernelspec": {
   "display_name": "Python 3 (ipykernel)",
   "language": "python",
   "name": "python3"
  },
  "language_info": {
   "codemirror_mode": {
    "name": "ipython",
    "version": 3
   },
   "file_extension": ".py",
   "mimetype": "text/x-python",
   "name": "python",
   "nbconvert_exporter": "python",
   "pygments_lexer": "ipython3",
   "version": "3.10.9"
  }
 },
 "nbformat": 4,
 "nbformat_minor": 4
}
