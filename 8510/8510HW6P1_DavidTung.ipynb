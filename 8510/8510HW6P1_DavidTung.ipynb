{
 "cells": [
  {
   "cell_type": "markdown",
   "id": "f50b41f4-dfb7-4534-b1dd-21246337c780",
   "metadata": {},
   "source": [
    "# 8510 HW6 Part1 - David Tung"
   ]
  },
  {
   "cell_type": "code",
   "execution_count": 254,
   "id": "ab516fea-2310-4a1b-ab5a-b0d3cac6c601",
   "metadata": {},
   "outputs": [],
   "source": [
    "import pandas as pd\n",
    "import numpy as np\n",
    "\n",
    "# Load the data from the uploaded file\n",
    "file_path = './spam2.csv'\n",
    "spam_data = pd.read_csv(file_path)\n",
    "\n",
    "# Displaying the first few rows of the dataset to understand its structure\n",
    "#print(spam_data.head())\n",
    "np_spam_data = np.array(spam_data)"
   ]
  },
  {
   "cell_type": "code",
   "execution_count": 255,
   "id": "7105a091-a39e-4651-b2b7-2e0e136d7d5d",
   "metadata": {},
   "outputs": [],
   "source": [
    "# Splitting the data into train (top 70%) and test (remaining 30%) sets\n",
    "split_index = int(0.7 * len(spam_data))\n",
    "train_data = np_spam_data[:split_index]\n",
    "test_data = np_spam_data[split_index:]"
   ]
  },
  {
   "cell_type": "code",
   "execution_count": 256,
   "id": "a21d45f6-4fc1-4876-8e0e-b140500b7126",
   "metadata": {},
   "outputs": [],
   "source": [
    "class_count = np.array([sum(train_data[:,0]==0),sum(train_data[:,0]==1)])\n",
    "prior_prob = class_count/train_data.shape[0]"
   ]
  },
  {
   "cell_type": "code",
   "execution_count": 260,
   "id": "0a945fb0-c8c8-4b02-8d74-265a074451d5",
   "metadata": {},
   "outputs": [],
   "source": [
    "class NaiveBayesUtils:\n",
    "    \n",
    "    def __init__(self):\n",
    "        self.n_target_classes = 0\n",
    "        self.classes = None\n",
    "        self.class_f = None # frequency\n",
    "        self.feature_f = None\n",
    "        self.class_prob = None\n",
    "        self.feature_p = None\n",
    "\n",
    "    def probabilities(self, feature):\n",
    "        n_rows, n_columes = feature.shape\n",
    "        self.class_prob = self.class_f / n_rows\n",
    "        for i in range(n_columes):\n",
    "            for f in range(len(np.unique(feature[:, i]))):\n",
    "                for c in self.classes:\n",
    "                    self.feature_p[i, f, c] = \\\n",
    "                        (self.feature_f[i, f, c] + 1) / (self.class_f[c] \\\n",
    "                                + len(np.unique(feature[:, i])))\n",
    "\n",
    "    def fit_model(self, feature, y):\n",
    "        self.classes = np.unique(y)\n",
    "        self.n_target_classes = len(self.classes)\n",
    "        n_rows, n_features = feature.shape\n",
    "        self.class_f = np.zeros(self.n_target_classes)\n",
    "        self.feature_f = \\\n",
    "            np.zeros((n_features, len(np.unique(feature)), self.n_target_classes))\n",
    "        self.class_prob = np.zeros(self.n_target_classes)\n",
    "        self.feature_p = \\\n",
    "            np.zeros((n_features, len(np.unique(feature)), self.n_target_classes))\n",
    "        for cls in self.classes: # iterate classes\n",
    "            feature_c = feature[y == cls]\n",
    "            self.class_f[cls] = feature_c.shape[0]\n",
    "            for fi in range(n_features): # iterate feature index\n",
    "                feature_values = np.unique(feature[:, fi])\n",
    "                for fv in feature_values: # iterate feature val\n",
    "                    self.feature_f[fi, fv, cls] = np.sum(feature_c[:, fi] == fv)     \n",
    "        self.probabilities(feature)\n",
    "\n",
    "    def predict(self, features):\n",
    "        pred = []\n",
    "        for sample in features:\n",
    "            posteriors = []\n",
    "            for cls in self.classes:\n",
    "                posterior = self.class_prob[cls]\n",
    "                for i, val in enumerate(sample):\n",
    "                    posterior = posterior * self.feature_p[i, val, cls]\n",
    "                posteriors.append(posterior)\n",
    "            pred.append(self.classes[np.argmax(posteriors)])\n",
    "        return np.array(pred)"
   ]
  },
  {
   "cell_type": "code",
   "execution_count": 261,
   "id": "5f545ec7-2ed5-458e-8f2b-23f799535a1a",
   "metadata": {},
   "outputs": [],
   "source": [
    "naiveBayesUtils = NaiveBayesUtils()\n",
    "features = train_data[:, 1:]  # Features\n",
    "target = train_data[:, 0]   # Labels\n",
    "naiveBayesUtils.fit_model(features, target)\n",
    "\n",
    "testing_data_features = test_data[:, 1:]  # Features from testing\n",
    "y_pred = naiveBayesUtils.predict(testing_data_features)\n",
    "\n",
    "actual = np.array([test_data[:, 0]]).T[:,0]\n",
    "pred = np.array([y_pred]).T[:,0]\n",
    "\n",
    "TP = sum((actual==1) & (pred ==1))\n",
    "TN = sum((actual==0) & (pred ==0))\n",
    "FN = sum((actual==1) & (pred ==0))\n",
    "FP = sum((actual==0) & (pred ==1))\n",
    "\n",
    "cm = np.array([[TP, FN],\n",
    "               [FP, TN]])"
   ]
  },
  {
   "cell_type": "markdown",
   "id": "1e57fd51-b625-43da-be56-98c274bfea2d",
   "metadata": {},
   "source": [
    "# Results"
   ]
  },
  {
   "cell_type": "code",
   "execution_count": 262,
   "id": "fb880b29-7272-4d76-ab81-9bd8c7da51ea",
   "metadata": {},
   "outputs": [
    {
     "name": "stdout",
     "output_type": "stream",
     "text": [
      "Class Counts [0, 1]:\n",
      " [460 454]\n",
      "\n",
      "Prior Probabilities [0, 1]:\n",
      " [0.50328228 0.49671772]\n",
      "\n",
      "Confusion Matrix[[TP,FN],[FP,TN]]: \n",
      " [[166  33]\n",
      " [  6 187]]\n",
      "\n",
      "Accuracy= 0.9005102040816326\n",
      "Recall= 0.8341708542713567\n",
      "Precision= 0.9651162790697675\n",
      "F1= 0.8948787061994609\n"
     ]
    }
   ],
   "source": [
    "Accuracy = (TP+TN)/(TP+FN+FP+TN)\n",
    "Precision = TP/(TP+FP)\n",
    "Recall = TP/(TP+FN)\n",
    "F1 = 2*Precision*Recall/(Precision+Recall)\n",
    "print(f\"Class Counts [0, 1]:\\n {class_count}\\n\")\n",
    "print(f\"Prior Probabilities [0, 1]:\\n {prior_prob}\\n\")\n",
    "print(f\"Confusion Matrix[[TP,FN],[FP,TN]]: \\n {cm}\\n\")\n",
    "print(f\"Accuracy= {Accuracy}\")\n",
    "print(f\"Recall= {Recall}\")\n",
    "print(f\"Precision= {Precision}\")\n",
    "print(f\"F1= {F1}\")\n"
   ]
  },
  {
   "cell_type": "code",
   "execution_count": null,
   "id": "be682a39-bdec-4034-9247-8d5d9b7b449c",
   "metadata": {},
   "outputs": [],
   "source": []
  }
 ],
 "metadata": {
  "kernelspec": {
   "display_name": "Python 3 (ipykernel)",
   "language": "python",
   "name": "python3"
  },
  "language_info": {
   "codemirror_mode": {
    "name": "ipython",
    "version": 3
   },
   "file_extension": ".py",
   "mimetype": "text/x-python",
   "name": "python",
   "nbconvert_exporter": "python",
   "pygments_lexer": "ipython3",
   "version": "3.10.9"
  }
 },
 "nbformat": 4,
 "nbformat_minor": 5
}
